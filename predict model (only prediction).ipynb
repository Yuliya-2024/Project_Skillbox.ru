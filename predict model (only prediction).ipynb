{
 "cells": [
  {
   "cell_type": "code",
   "execution_count": 11,
   "id": "f4783080",
   "metadata": {},
   "outputs": [],
   "source": [
    "import pandas as pd\n",
    "import random             #библиотека для выбора рандомного значения из списка\n",
    "import joblib\n",
    "import pickle"
   ]
  },
  {
   "cell_type": "markdown",
   "id": "f833ad29",
   "metadata": {},
   "source": [
    "# Функции"
   ]
  },
  {
   "cell_type": "code",
   "execution_count": 97,
   "id": "848b90d4",
   "metadata": {},
   "outputs": [],
   "source": [
    "#кластеризация по характеристикам клиента\n",
    "def get_cluster(sex, age, education):\n",
    "    if age <= 45 and education == 'высшее':\n",
    "        if sex == 'Ж' or sex == 0:\n",
    "            cluster = 1\n",
    "        else:\n",
    "            cluster = 4\n",
    "    elif age <= 45 and education == 'среднее':\n",
    "        if sex == 'Ж' or sex == 0:\n",
    "            cluster = 2\n",
    "        else:\n",
    "            cluster = 5\n",
    "    else:\n",
    "        if sex == 'Ж' or sex == 0:\n",
    "            cluster = 3\n",
    "        else:\n",
    "            cluster = 6  \n",
    "    return cluster \n",
    "\n",
    "\n",
    "\n",
    "def purchase_forecasting(product_name, age, sex, education, campaign_participation, personal_coef):\n",
    "    #т.к. модель работает с целыми значениями, переведем параметры в int\n",
    "    sex_encoding = {'Ж':'0','М':'1'}\n",
    "    education_encoding = {'среднее':'0','высшее':'1'}\n",
    "    group_encoding = {'нет':'0','да':'1'}\n",
    "\n",
    "    #создадим фрейм данных из одной строки, которая потом будем помещена в модель для предсказания\n",
    "    frame = pd.DataFrame(columns=['product_name','age','sex','education','cluster','group','personal_coef'])\n",
    "    frame.loc[0] = [product_encoding[product_name],\n",
    "                    age,\n",
    "                    sex_encoding[sex],\n",
    "                    education_encoding[education],\n",
    "                    get_cluster(sex,age,education),\n",
    "                    group_encoding[campaign_participation],\n",
    "                    personal_coef]\n",
    "    \n",
    "    #ПРЕДСКАЗАНИЕ, сколько определенного товара купит определенный клиент за 2 месяца\n",
    "    predict = rf.predict(frame)\n",
    "    predict = int(predict)\n",
    "    \n",
    "    if predict == None:\n",
    "        predict = 0\n",
    "        \n",
    "    if campaign_participation == 'да':\n",
    "        print('Прогноз на ближайшие \\033[1m 2 месяца \\033[0m:')\n",
    "        print('По всей стране №32 (652 города) клиенты \\033[1m {sex} \\033[0m пола в возрасте \\033[1m {age} лет \\033[0m' \n",
    "              'с уровнем образования - \\033[1m {education} \\033[0m, '\n",
    "              'которые ранее \\033[1m принимали \\033[0m участие в различных маркетинговых кампаниях, '\n",
    "              'купят продукт \\033[1m {product} \\033[0m'\n",
    "              'в среднем около \\033[1m {N} \\033[0m раз/-а'.format(product=product, \n",
    "                                                                  N=predict,\n",
    "                                                                  sex=sex, \n",
    "                                                                  age=age, \n",
    "                                                                  education=education))\n",
    "        \n",
    "    if campaign_participation == 'нет':\n",
    "        print('Прогноз на ближайшие \\033[1m 2 месяца \\033[0m:')\n",
    "        print('По всей стране №32 (652 города) клиенты \\033[1m {sex} \\033[0m пола в возрасте \\033[1m {age} лет \\033[0m' \n",
    "              'с уровнем образования - \\033[1m {education} \\033[0m, '\n",
    "              'которые ранее \\033[1m НЕ принимали \\033[0m участие в различных маркетинговых кампаниях, '\n",
    "              'купят продукт \\033[1m {product} \\033[0m'\n",
    "              'в среднем около \\033[1m {N} \\033[0m раз/-а'.format(product=product, \n",
    "                                                                  N=predict,\n",
    "                                                                  sex=sex, \n",
    "                                                                  age=age, \n",
    "                                                                  education=education))"
   ]
  },
  {
   "cell_type": "markdown",
   "id": "131d1e8f",
   "metadata": {},
   "source": [
    "# Загрузка подготовленной модели и базы данных"
   ]
  },
  {
   "cell_type": "code",
   "execution_count": 12,
   "id": "61c9d649",
   "metadata": {},
   "outputs": [],
   "source": [
    "rf = joblib.load('rf_model.pkl')\n",
    "\n",
    "with open('product_encoding.pkl', 'rb') as fp:\n",
    "    product_encoding = pickle.load(fp)"
   ]
  },
  {
   "cell_type": "markdown",
   "id": "97e15c11",
   "metadata": {},
   "source": [
    "# Прогноз на покупку клиентом определенного товара"
   ]
  },
  {
   "cell_type": "code",
   "execution_count": 98,
   "id": "965b41aa",
   "metadata": {},
   "outputs": [
    {
     "name": "stdout",
     "output_type": "stream",
     "text": [
      "Прогноз на ближайшие \u001b[1m 2 месяца \u001b[0m:\n",
      "По всей стране №32 (652 города) клиенты \u001b[1m Ж \u001b[0m пола в возрасте \u001b[1m 70 лет \u001b[0mс уровнем образования - \u001b[1m высшее \u001b[0m, которые ранее \u001b[1m НЕ принимали \u001b[0m участие в различных маркетинговых кампаниях, купят продукт \u001b[1m Жилет утяжеленный KETTLER, 10 кг \u001b[0mв среднем около \u001b[1m 1 \u001b[0m раз/-а\n"
     ]
    }
   ],
   "source": [
    "product = random.choice(list(product_encoding.keys()))   #product_name - текст (полное название продукта, как в базе данных)\n",
    "age = 70                                                 #age - число\n",
    "sex = 'Ж'                                                #sex - текст (М или Ж)\n",
    "education = 'высшее'                                     #education - текст (высшее или среднее)\n",
    "campaign_participation = 'нет'                            #campaign_participation - текст (да или нет)  - участие в прошлых маркетинговых кампаниях\n",
    "personal_coef = 0.2768                                   #personal_coef - число (прописать самостоятельно, нет данных по его расчету)\n",
    "\n",
    "predict = purchase_forecasting(product,age,sex,education,campaign_participation,personal_coef)"
   ]
  }
 ],
 "metadata": {
  "kernelspec": {
   "display_name": "Python 3 (ipykernel)",
   "language": "python",
   "name": "python3"
  },
  "language_info": {
   "codemirror_mode": {
    "name": "ipython",
    "version": 3
   },
   "file_extension": ".py",
   "mimetype": "text/x-python",
   "name": "python",
   "nbconvert_exporter": "python",
   "pygments_lexer": "ipython3",
   "version": "3.10.9"
  }
 },
 "nbformat": 4,
 "nbformat_minor": 5
}
